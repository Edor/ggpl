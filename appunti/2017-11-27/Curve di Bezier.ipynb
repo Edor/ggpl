{
 "cells": [
  {
   "cell_type": "code",
   "execution_count": 1,
   "metadata": {},
   "outputs": [
    {
     "name": "stdout",
     "output_type": "stream",
     "text": [
      "Evaluating fenvs.py..\n",
      "...fenvs.py imported in 0.010056 seconds\n"
     ]
    }
   ],
   "source": [
    "from larlib import *"
   ]
  },
  {
   "cell_type": "code",
   "execution_count": 32,
   "metadata": {},
   "outputs": [
    {
     "data": {
      "text/plain": [
       "[0.5, 0.125]"
      ]
     },
     "execution_count": 32,
     "metadata": {},
     "output_type": "execute_result"
    }
   ],
   "source": [
    "x = lambda u: u[0]\n",
    "y1 = lambda u: -u[1]**3 + 3*u[1]**2 -3*u[1] + 1\n",
    "y2 = lambda u: 3*u[1] - 6*u[1]**2 + 3*u[1]\n",
    "y3 = lambda u: -3*u[1]**3 + 3*u[1]\n",
    "y4 = lambda u: u[1]**3\n",
    "domain = \n",
    "c1=MAP([x,y1])(domain)\n",
    "c2=MAP([x,y2])(domain)\n",
    "c3=MAP([x,y3])(domain)\n",
    "c4=MAP([x,y4])(domain)\n",
    "#VIEW(STRUCT([c1,c2,c3,c4]))\n",
    "#VIEW(c1)\n",
    "CONS([x,y4])([.5,.5])"
   ]
  },
  {
   "cell_type": "code",
   "execution_count": null,
   "metadata": {
    "collapsed": true
   },
   "outputs": [],
   "source": []
  }
 ],
 "metadata": {
  "kernelspec": {
   "display_name": "Python 2",
   "language": "python",
   "name": "python2"
  },
  "language_info": {
   "codemirror_mode": {
    "name": "ipython",
    "version": 2
   },
   "file_extension": ".py",
   "mimetype": "text/x-python",
   "name": "python",
   "nbconvert_exporter": "python",
   "pygments_lexer": "ipython2",
   "version": "2.7.13"
  }
 },
 "nbformat": 4,
 "nbformat_minor": 2
}
