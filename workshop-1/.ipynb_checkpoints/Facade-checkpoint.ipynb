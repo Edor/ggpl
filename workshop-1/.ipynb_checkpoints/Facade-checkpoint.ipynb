{
 "cells": [
  {
   "cell_type": "markdown",
   "metadata": {},
   "source": [
    "Facade script\n",
    "======="
   ]
  },
  {
   "cell_type": "raw",
   "metadata": {},
   "source": [
    "Codice PLaSM:\n",
    "DEF facade (n,m::IsIntPos) = STRUCT:<\n",
    "    Q:xRithm * Q:yRithm,\n",
    "    Q:xVoid * Q:yRithm,\n",
    "    Q:xRithm * Q:yVoid ,\n",
    "    @1:(Q:xVoid * Q:yVoid) >\n",
    "WHERE\n",
    "    xRithm = ##:n:<5,-2,-5,-2> AR 5,\n",
    "    yRithm = ##:m:<7,-5,-2> AR 7,\n",
    "    xVoid = AA:-:xRithm,\n",
    "    yVoid = AA:-:yRithm\n",
    "END;"
   ]
  },
  {
   "cell_type": "code",
   "execution_count": 2,
   "metadata": {},
   "outputs": [
    {
     "name": "stdout",
     "output_type": "stream",
     "text": [
      "Evaluating fenvs.py..\n",
      "...fenvs.py imported in 0.005188 seconds\n"
     ]
    }
   ],
   "source": [
    "from larlib import *"
   ]
  },
  {
   "cell_type": "code",
   "execution_count": 17,
   "metadata": {
    "collapsed": true
   },
   "outputs": [],
   "source": [
    "def facade(n,m):\n",
    "    xRithm = [5, -2, -5, -2]*n\n",
    "    xRithm.append(5)\n",
    "    yRithm = [7, -5, -2]*m\n",
    "    yRithm.append(7)\n",
    "    xVoid = [ -x for x in xRithm ]\n",
    "    yVoid = [ -y for y in yRithm ]\n",
    "    output = PROD([xRithm, yRithm]) + PROD([xVoid, yRithm]) + PROD([xRithm, yVoid])\n",
    "    return xVoid"
   ]
  },
  {
   "cell_type": "code",
   "execution_count": null,
   "metadata": {
    "collapsed": true
   },
   "outputs": [],
   "source": []
  }
 ],
 "metadata": {
  "kernelspec": {
   "display_name": "Python 2",
   "language": "python",
   "name": "python2"
  },
  "language_info": {
   "codemirror_mode": {
    "name": "ipython",
    "version": 2
   },
   "file_extension": ".py",
   "mimetype": "text/x-python",
   "name": "python",
   "nbconvert_exporter": "python",
   "pygments_lexer": "ipython2",
   "version": "2.7.13"
  }
 },
 "nbformat": 4,
 "nbformat_minor": 2
}
